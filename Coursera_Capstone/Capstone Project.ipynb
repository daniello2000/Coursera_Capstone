{
 "cells": [
  {
   "cell_type": "markdown",
   "metadata": {},
   "source": [
    "# Problem description / Outline\n",
    "\n",
    "I want to work on a local dataset and since I am from Germany, I will do the following:\n",
    "\n",
    "Berlin is famous for the distributed nature - and I want to know in which neighbourhood the most action is going on as measured by foursquare data and if that is in any way correlated to the price of living there (as measured by rent).\n",
    "\n",
    "I will pick two \"KPIs\" from Foursquare to measure this, and one KPI as rent:\n",
    "\n",
    "1. Number of Italian Restaurants\n",
    "2. Number of Bars and Nightclubs\n",
    "3. Rent, https://mietpreisspiegel.de/miete-in-berlin/\n",
    "\n",
    "To collect the data, I will start with the following Wikipedia page https://en.wikipedia.org/wiki/Boroughs_and_neighborhoods_of_Berlin; this referes to each borough and neighbourhood (on separate pages), where the GPS locations are given.\n",
    "\n",
    "Since I did not find an exact shape description of Berlin, I will use the GPS coordinate from above and define a circle around that to measure the number of KPIs, as mentioned.\n",
    "\n",
    "I will visualize this on a map and show correlations."
   ]
  },
  {
   "cell_type": "code",
   "execution_count": null,
   "metadata": {},
   "outputs": [],
   "source": []
  }
 ],
 "metadata": {
  "kernelspec": {
   "display_name": "Python 3",
   "language": "python",
   "name": "python3"
  },
  "language_info": {
   "codemirror_mode": {
    "name": "ipython",
    "version": 3
   },
   "file_extension": ".py",
   "mimetype": "text/x-python",
   "name": "python",
   "nbconvert_exporter": "python",
   "pygments_lexer": "ipython3",
   "version": "3.8.5"
  }
 },
 "nbformat": 4,
 "nbformat_minor": 4
}
